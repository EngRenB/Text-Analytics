{
 "cells": [
  {
   "cell_type": "code",
   "execution_count": 9,
   "id": "d1294973",
   "metadata": {},
   "outputs": [],
   "source": [
    "import PyPDF2"
   ]
  },
  {
   "cell_type": "code",
   "execution_count": 10,
   "id": "83e23615",
   "metadata": {},
   "outputs": [],
   "source": [
    "FileTwo = open('Business_Proposal.pdf', 'rb')"
   ]
  },
  {
   "cell_type": "code",
   "execution_count": 11,
   "id": "1d6c2abd",
   "metadata": {},
   "outputs": [],
   "source": [
    "reader = PyPDF2.PdfReader(FileTwo)"
   ]
  },
  {
   "cell_type": "code",
   "execution_count": 12,
   "id": "eb91de92",
   "metadata": {},
   "outputs": [
    {
     "data": {
      "text/plain": [
       "2"
      ]
     },
     "execution_count": 12,
     "metadata": {},
     "output_type": "execute_result"
    }
   ],
   "source": [
    "len(reader.pages)"
   ]
  },
  {
   "cell_type": "code",
   "execution_count": 14,
   "id": "df761404",
   "metadata": {},
   "outputs": [],
   "source": [
    "pageTwo = reader.pages[1]"
   ]
  },
  {
   "cell_type": "code",
   "execution_count": 15,
   "id": "0910ed72",
   "metadata": {},
   "outputs": [],
   "source": [
    "pageTwoText = pageTwo.extract_text()"
   ]
  },
  {
   "cell_type": "code",
   "execution_count": 16,
   "id": "88fd67e4",
   "metadata": {},
   "outputs": [
    {
     "data": {
      "text/plain": [
       "'AUTHORS:  \\nAmy Baker, Finance Chair, x345, abaker@ourcompany.com  \\nChris Donaldson, Accounting Dir., x621, cdonaldson@ourcompany.com  \\nErin Freeman, Sr. VP, x879, efreeman@ourcompany.com  '"
      ]
     },
     "execution_count": 16,
     "metadata": {},
     "output_type": "execute_result"
    }
   ],
   "source": [
    "pageTwoText"
   ]
  },
  {
   "cell_type": "code",
   "execution_count": null,
   "id": "84fe7ccc",
   "metadata": {},
   "outputs": [],
   "source": []
  }
 ],
 "metadata": {
  "kernelspec": {
   "display_name": "Python 3",
   "language": "python",
   "name": "python3"
  },
  "language_info": {
   "codemirror_mode": {
    "name": "ipython",
    "version": 3
   },
   "file_extension": ".py",
   "mimetype": "text/x-python",
   "name": "python",
   "nbconvert_exporter": "python",
   "pygments_lexer": "ipython3",
   "version": "3.6.8"
  }
 },
 "nbformat": 4,
 "nbformat_minor": 5
}
