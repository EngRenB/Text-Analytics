{
 "cells": [
  {
   "cell_type": "code",
   "execution_count": 1,
   "id": "b48527af-afed-4a19-b977-345ee7b7ab31",
   "metadata": {},
   "outputs": [],
   "source": [
    "import pandas as pd\n",
    "\n",
    "#nltk packages\n",
    "import re\n",
    "import string\n",
    "import nltk\n",
    "from nltk.corpus import stopwords\n",
    "\n",
    "import matplotlib.pyplot as plt\n",
    "import seaborn as sns\n",
    "\n",
    "#tf-idf packages\n",
    "from sklearn.feature_extraction.text import TfidfVectorizer\n",
    "tfidf = TfidfVectorizer()\n",
    "\n",
    "#sklearn packages\n",
    "from sklearn.model_selection import train_test_split\n",
    "from sklearn.naive_bayes import MultinomialNB\n",
    "from sklearn.svm import SVC\n",
    "from sklearn.metrics import classification_report\n",
    "from sklearn.metrics import confusion_matrix\n",
    "from sklearn.pipeline import Pipeline\n",
    "from sklearn.ensemble import RandomForestClassifier\n",
    "from vaderSentiment.vaderSentiment import SentimentIntensityAnalyzer"
   ]
  },
  {
   "cell_type": "code",
   "execution_count": 2,
   "id": "c8805100-6779-4527-ac9c-e6e5b503244f",
   "metadata": {},
   "outputs": [],
   "source": [
    "test = pd.read_csv(\"Data\\Sample\\sampledDataset_testing.csv\")\n",
    "test['text'] = test['text'].astype(str)\n",
    "\n",
    "train = pd.read_csv(\"Data\\Sample\\sampledDataset_training.csv\")\n",
    "train['text'] = train['text'].astype(str)"
   ]
  },
  {
   "cell_type": "markdown",
   "id": "de0848bb-bb5b-446a-b0eb-ac22f75b2aea",
   "metadata": {},
   "source": [
    "## Basic Exploratory Data Analysis"
   ]
  },
  {
   "cell_type": "code",
   "execution_count": 3,
   "id": "1afda2ac-4875-4d59-806a-212a103adea0",
   "metadata": {},
   "outputs": [
    {
     "name": "stdout",
     "output_type": "stream",
     "text": [
      "(50, 4)\n",
      "(50, 4)\n"
     ]
    }
   ],
   "source": [
    "print(test.shape)\n",
    "print(train.shape)"
   ]
  },
  {
   "cell_type": "code",
   "execution_count": 4,
   "id": "d9d9ff45-a663-49ed-abef-3d2a0ea6362a",
   "metadata": {},
   "outputs": [
    {
     "data": {
      "text/html": [
       "<div>\n",
       "<style scoped>\n",
       "    .dataframe tbody tr th:only-of-type {\n",
       "        vertical-align: middle;\n",
       "    }\n",
       "\n",
       "    .dataframe tbody tr th {\n",
       "        vertical-align: top;\n",
       "    }\n",
       "\n",
       "    .dataframe thead th {\n",
       "        text-align: right;\n",
       "    }\n",
       "</style>\n",
       "<table border=\"1\" class=\"dataframe\">\n",
       "  <thead>\n",
       "    <tr style=\"text-align: right;\">\n",
       "      <th></th>\n",
       "      <th>line</th>\n",
       "      <th>author</th>\n",
       "      <th>time</th>\n",
       "      <th>text</th>\n",
       "    </tr>\n",
       "  </thead>\n",
       "  <tbody>\n",
       "    <tr>\n",
       "      <th>0</th>\n",
       "      <td>1</td>\n",
       "      <td>8bf9c378ec2a475392b4267ae7768f13</td>\n",
       "      <td>17:32</td>\n",
       "      <td>hi</td>\n",
       "    </tr>\n",
       "    <tr>\n",
       "      <th>1</th>\n",
       "      <td>1</td>\n",
       "      <td>eda70375307c707da829326edc18816f</td>\n",
       "      <td>07:19</td>\n",
       "      <td>Heyy</td>\n",
       "    </tr>\n",
       "    <tr>\n",
       "      <th>2</th>\n",
       "      <td>59</td>\n",
       "      <td>24527f8ca0a73da6f9ae19e7b7dd19b4</td>\n",
       "      <td>11:55</td>\n",
       "      <td>okay :)</td>\n",
       "    </tr>\n",
       "    <tr>\n",
       "      <th>3</th>\n",
       "      <td>28</td>\n",
       "      <td>5fe72667d76d0f68d46390d03c940350</td>\n",
       "      <td>02:07</td>\n",
       "      <td>yay me</td>\n",
       "    </tr>\n",
       "    <tr>\n",
       "      <th>4</th>\n",
       "      <td>4</td>\n",
       "      <td>a11aabeeceeae6b8cb5d12ea06b56554</td>\n",
       "      <td>14:55</td>\n",
       "      <td>What's an iteration?</td>\n",
       "    </tr>\n",
       "  </tbody>\n",
       "</table>\n",
       "</div>"
      ],
      "text/plain": [
       "   line                            author   time                  text\n",
       "0     1  8bf9c378ec2a475392b4267ae7768f13  17:32                    hi\n",
       "1     1  eda70375307c707da829326edc18816f  07:19                  Heyy\n",
       "2    59  24527f8ca0a73da6f9ae19e7b7dd19b4  11:55               okay :)\n",
       "3    28  5fe72667d76d0f68d46390d03c940350  02:07                yay me\n",
       "4     4  a11aabeeceeae6b8cb5d12ea06b56554  14:55  What's an iteration?"
      ]
     },
     "execution_count": 4,
     "metadata": {},
     "output_type": "execute_result"
    }
   ],
   "source": [
    "test.head()"
   ]
  },
  {
   "cell_type": "code",
   "execution_count": 5,
   "id": "524dd04f-44ce-4756-99fb-9e820c5900f8",
   "metadata": {},
   "outputs": [
    {
     "data": {
      "text/html": [
       "<div>\n",
       "<style scoped>\n",
       "    .dataframe tbody tr th:only-of-type {\n",
       "        vertical-align: middle;\n",
       "    }\n",
       "\n",
       "    .dataframe tbody tr th {\n",
       "        vertical-align: top;\n",
       "    }\n",
       "\n",
       "    .dataframe thead th {\n",
       "        text-align: right;\n",
       "    }\n",
       "</style>\n",
       "<table border=\"1\" class=\"dataframe\">\n",
       "  <thead>\n",
       "    <tr style=\"text-align: right;\">\n",
       "      <th></th>\n",
       "      <th>line</th>\n",
       "      <th>author</th>\n",
       "      <th>time</th>\n",
       "      <th>text</th>\n",
       "    </tr>\n",
       "  </thead>\n",
       "  <tbody>\n",
       "    <tr>\n",
       "      <th>0</th>\n",
       "      <td>27</td>\n",
       "      <td>4dd217ba7542bb00a127f682e2c3ad27</td>\n",
       "      <td>13:17</td>\n",
       "      <td>7a57f5bab20dcaf42d8916dd02e7fac8: are you goin...</td>\n",
       "    </tr>\n",
       "    <tr>\n",
       "      <th>1</th>\n",
       "      <td>18</td>\n",
       "      <td>1a8584f0c647c17aae7f5aca0ae61686</td>\n",
       "      <td>00:08</td>\n",
       "      <td>I need colors to create pens to drawrectangle ...</td>\n",
       "    </tr>\n",
       "    <tr>\n",
       "      <th>2</th>\n",
       "      <td>26</td>\n",
       "      <td>b25b6b77a0087ff8385941e5545d32ea</td>\n",
       "      <td>00:54</td>\n",
       "      <td>a131216c7af242e66537a58b4ca7c9f9: &amp;quot;When y...</td>\n",
       "    </tr>\n",
       "    <tr>\n",
       "      <th>3</th>\n",
       "      <td>7</td>\n",
       "      <td>4f5d64b5e9531fd97985f94cafe5cd15</td>\n",
       "      <td>02:01</td>\n",
       "      <td>first word yea NoiseEee's got it</td>\n",
       "    </tr>\n",
       "    <tr>\n",
       "      <th>4</th>\n",
       "      <td>2</td>\n",
       "      <td>6bf6443c8d8d3dbd2e8798cefc00d963</td>\n",
       "      <td>19:05</td>\n",
       "      <td>[http://twitter.com/reiver] ... I wonder if th...</td>\n",
       "    </tr>\n",
       "  </tbody>\n",
       "</table>\n",
       "</div>"
      ],
      "text/plain": [
       "   line                            author   time  \\\n",
       "0    27  4dd217ba7542bb00a127f682e2c3ad27  13:17   \n",
       "1    18  1a8584f0c647c17aae7f5aca0ae61686  00:08   \n",
       "2    26  b25b6b77a0087ff8385941e5545d32ea  00:54   \n",
       "3     7  4f5d64b5e9531fd97985f94cafe5cd15  02:01   \n",
       "4     2  6bf6443c8d8d3dbd2e8798cefc00d963  19:05   \n",
       "\n",
       "                                                text  \n",
       "0  7a57f5bab20dcaf42d8916dd02e7fac8: are you goin...  \n",
       "1  I need colors to create pens to drawrectangle ...  \n",
       "2  a131216c7af242e66537a58b4ca7c9f9: &quot;When y...  \n",
       "3                   first word yea NoiseEee's got it  \n",
       "4  [http://twitter.com/reiver] ... I wonder if th...  "
      ]
     },
     "execution_count": 5,
     "metadata": {},
     "output_type": "execute_result"
    }
   ],
   "source": [
    "train.head()"
   ]
  },
  {
   "cell_type": "code",
   "execution_count": 6,
   "id": "2326e283-d37f-4bc9-b188-e99e250614a0",
   "metadata": {},
   "outputs": [
    {
     "data": {
      "text/plain": [
       "0"
      ]
     },
     "execution_count": 6,
     "metadata": {},
     "output_type": "execute_result"
    }
   ],
   "source": [
    "test.duplicated().sum()"
   ]
  },
  {
   "cell_type": "code",
   "execution_count": 7,
   "id": "592284c6-df2a-4497-a391-ec1e7e28b239",
   "metadata": {},
   "outputs": [
    {
     "data": {
      "text/plain": [
       "0"
      ]
     },
     "execution_count": 7,
     "metadata": {},
     "output_type": "execute_result"
    }
   ],
   "source": [
    "train.duplicated().sum()"
   ]
  },
  {
   "cell_type": "markdown",
   "id": "d3e966fb-4bd5-42d1-85b2-875eda3db3cf",
   "metadata": {},
   "source": [
    "## Data Preprocessing"
   ]
  },
  {
   "cell_type": "code",
   "execution_count": 8,
   "id": "238328e8-ddbc-4dc8-aeb6-c6c186a352f0",
   "metadata": {},
   "outputs": [
    {
     "data": {
      "text/plain": [
       "['i',\n",
       " 'me',\n",
       " 'my',\n",
       " 'myself',\n",
       " 'we',\n",
       " 'our',\n",
       " 'ours',\n",
       " 'ourselves',\n",
       " 'you',\n",
       " \"you're\",\n",
       " \"you've\",\n",
       " \"you'll\",\n",
       " \"you'd\",\n",
       " 'your',\n",
       " 'yours',\n",
       " 'yourself',\n",
       " 'yourselves',\n",
       " 'he',\n",
       " 'him',\n",
       " 'his',\n",
       " 'himself',\n",
       " 'she',\n",
       " \"she's\",\n",
       " 'her',\n",
       " 'hers',\n",
       " 'herself',\n",
       " 'it',\n",
       " \"it's\",\n",
       " 'its',\n",
       " 'itself',\n",
       " 'they',\n",
       " 'them',\n",
       " 'their',\n",
       " 'theirs',\n",
       " 'themselves',\n",
       " 'what',\n",
       " 'which',\n",
       " 'who',\n",
       " 'whom',\n",
       " 'this',\n",
       " 'that',\n",
       " \"that'll\",\n",
       " 'these',\n",
       " 'those',\n",
       " 'am',\n",
       " 'is',\n",
       " 'are',\n",
       " 'was',\n",
       " 'were',\n",
       " 'be',\n",
       " 'been',\n",
       " 'being',\n",
       " 'have',\n",
       " 'has',\n",
       " 'had',\n",
       " 'having',\n",
       " 'do',\n",
       " 'does',\n",
       " 'did',\n",
       " 'doing',\n",
       " 'a',\n",
       " 'an',\n",
       " 'the',\n",
       " 'and',\n",
       " 'but',\n",
       " 'if',\n",
       " 'or',\n",
       " 'because',\n",
       " 'as',\n",
       " 'until',\n",
       " 'while',\n",
       " 'of',\n",
       " 'at',\n",
       " 'by',\n",
       " 'for',\n",
       " 'with',\n",
       " 'about',\n",
       " 'against',\n",
       " 'between',\n",
       " 'into',\n",
       " 'through',\n",
       " 'during',\n",
       " 'before',\n",
       " 'after',\n",
       " 'above',\n",
       " 'below',\n",
       " 'to',\n",
       " 'from',\n",
       " 'up',\n",
       " 'down',\n",
       " 'in',\n",
       " 'out',\n",
       " 'on',\n",
       " 'off',\n",
       " 'over',\n",
       " 'under',\n",
       " 'again',\n",
       " 'further',\n",
       " 'then',\n",
       " 'once',\n",
       " 'here',\n",
       " 'there',\n",
       " 'when',\n",
       " 'where',\n",
       " 'why',\n",
       " 'how',\n",
       " 'all',\n",
       " 'any',\n",
       " 'both',\n",
       " 'each',\n",
       " 'few',\n",
       " 'more',\n",
       " 'most',\n",
       " 'other',\n",
       " 'some',\n",
       " 'such',\n",
       " 'no',\n",
       " 'nor',\n",
       " 'not',\n",
       " 'only',\n",
       " 'own',\n",
       " 'same',\n",
       " 'so',\n",
       " 'than',\n",
       " 'too',\n",
       " 'very',\n",
       " 's',\n",
       " 't',\n",
       " 'can',\n",
       " 'will',\n",
       " 'just',\n",
       " 'don',\n",
       " \"don't\",\n",
       " 'should',\n",
       " \"should've\",\n",
       " 'now',\n",
       " 'd',\n",
       " 'll',\n",
       " 'm',\n",
       " 'o',\n",
       " 're',\n",
       " 've',\n",
       " 'y',\n",
       " 'ain',\n",
       " 'aren',\n",
       " \"aren't\",\n",
       " 'couldn',\n",
       " \"couldn't\",\n",
       " 'didn',\n",
       " \"didn't\",\n",
       " 'doesn',\n",
       " \"doesn't\",\n",
       " 'hadn',\n",
       " \"hadn't\",\n",
       " 'hasn',\n",
       " \"hasn't\",\n",
       " 'haven',\n",
       " \"haven't\",\n",
       " 'isn',\n",
       " \"isn't\",\n",
       " 'ma',\n",
       " 'mightn',\n",
       " \"mightn't\",\n",
       " 'mustn',\n",
       " \"mustn't\",\n",
       " 'needn',\n",
       " \"needn't\",\n",
       " 'shan',\n",
       " \"shan't\",\n",
       " 'shouldn',\n",
       " \"shouldn't\",\n",
       " 'wasn',\n",
       " \"wasn't\",\n",
       " 'weren',\n",
       " \"weren't\",\n",
       " 'won',\n",
       " \"won't\",\n",
       " 'wouldn',\n",
       " \"wouldn't\"]"
      ]
     },
     "execution_count": 8,
     "metadata": {},
     "output_type": "execute_result"
    }
   ],
   "source": [
    "stop_words = stopwords.words('english')\n",
    "stop_words"
   ]
  },
  {
   "cell_type": "code",
   "execution_count": 9,
   "id": "9121b64c-da8a-4ab0-be0a-d524b8189a33",
   "metadata": {},
   "outputs": [],
   "source": [
    "# Identify the column(s) containing the text data\n",
    "text_columns = [col for col in test.columns if 'text' in col.lower()]"
   ]
  },
  {
   "cell_type": "code",
   "execution_count": 10,
   "id": "246dec9d-e03d-4a53-bb97-593daa063bdd",
   "metadata": {},
   "outputs": [],
   "source": [
    "text_columns = [col for col in train.columns if 'text' in col.lower()]"
   ]
  },
  {
   "cell_type": "code",
   "execution_count": 11,
   "id": "1ef1163f-12fa-4542-8821-75ed3cce2060",
   "metadata": {},
   "outputs": [],
   "source": [
    "\n",
    "if not text_columns:\n",
    "    print(\"Error: No 'text' column found in the input data.\")\n",
    "    print(\"Please check the column names and update the code accordingly.\")\n",
    "    exit()\n",
    "elif len(text_columns) > 1:\n",
    "    print(\"Warning: Multiple 'text' columns found in the input data.\")\n",
    "    print(\"Using the first 'text' column: \", text_columns[0])\n",
    "    text_column = text_columns[0]\n",
    "else:\n",
    "    text_column = text_columns[0]\n"
   ]
  },
  {
   "cell_type": "code",
   "execution_count": 12,
   "id": "e0728ea6-8c91-45fb-8d7f-e3520b86713f",
   "metadata": {},
   "outputs": [],
   "source": [
    "def preprocess(text):\n",
    "    if pd.isnull(text) or text.strip() == \"\":\n",
    "        return \"\"\n",
    "    \n",
    "    text = text.lower()  # Convert text to lowercase\n",
    "    text = nltk.word_tokenize(text)\n",
    "    text = re.sub(r'\\[.*?\\]', '', str(text))  # Remove text within square brackets\n",
    "    text = re.sub(r'http\\S+\\s*\\S+', '', text)  # Remove URLs starting with http\n",
    "    text = re.sub(r'www\\.\\S+', '', text)  # Remove URLs starting with www\n",
    "    text = re.sub(r'<.*?>', '', text)  # Remove HTML tags\n",
    "    text = re.sub(r'[^\\w\\s]', '', text)  # Remove punctuation\n",
    "    text = re.sub(r'\\b\\w*\\d\\w*\\b', '', text)  # Remove words containing numbers\n",
    "    text = ' '.join(word for word in text.split(' ') if word not in stop_words) #remove stopwords\n",
    "    return ' '.join(text)"
   ]
  },
  {
   "cell_type": "code",
   "execution_count": 13,
   "id": "8eac437d-27b0-49c4-b3a5-ea9fd1220db8",
   "metadata": {},
   "outputs": [
    {
     "name": "stdout",
     "output_type": "stream",
     "text": [
      "   line                            author   time                  text cleaned\n",
      "0     1  8bf9c378ec2a475392b4267ae7768f13  17:32                    hi        \n",
      "1     1  eda70375307c707da829326edc18816f  07:19                  Heyy        \n",
      "2    59  24527f8ca0a73da6f9ae19e7b7dd19b4  11:55               okay :)        \n",
      "3    28  5fe72667d76d0f68d46390d03c940350  02:07                yay me        \n",
      "4     4  a11aabeeceeae6b8cb5d12ea06b56554  14:55  What's an iteration?        \n"
     ]
    }
   ],
   "source": [
    "cleaned_texts = [preprocess(row[text_column]) for _, row in test.iterrows()]\n",
    "test['cleaned'] = cleaned_texts\n",
    "\n",
    "print(test.head())"
   ]
  },
  {
   "cell_type": "code",
   "execution_count": 14,
   "id": "47b9bea6-6011-4ac6-aa85-fbf3f0654e95",
   "metadata": {},
   "outputs": [
    {
     "name": "stdout",
     "output_type": "stream",
     "text": [
      "   line                            author   time  \\\n",
      "0    27  4dd217ba7542bb00a127f682e2c3ad27  13:17   \n",
      "1    18  1a8584f0c647c17aae7f5aca0ae61686  00:08   \n",
      "2    26  b25b6b77a0087ff8385941e5545d32ea  00:54   \n",
      "3     7  4f5d64b5e9531fd97985f94cafe5cd15  02:01   \n",
      "4     2  6bf6443c8d8d3dbd2e8798cefc00d963  19:05   \n",
      "\n",
      "                                                text  \\\n",
      "0  7a57f5bab20dcaf42d8916dd02e7fac8: are you goin...   \n",
      "1  I need colors to create pens to drawrectangle ...   \n",
      "2  a131216c7af242e66537a58b4ca7c9f9: &quot;When y...   \n",
      "3                   first word yea NoiseEee's got it   \n",
      "4  [http://twitter.com/reiver] ... I wonder if th...   \n",
      "\n",
      "                                             cleaned  \n",
      "0                                                     \n",
      "1                                                     \n",
      "2                                                     \n",
      "3                                                     \n",
      "4      w o n d e r   a u t h o r s   w o u l d   ...  \n"
     ]
    }
   ],
   "source": [
    "cleaned_texts = [preprocess(row[text_column]) for _, row in train.iterrows()]\n",
    "train['cleaned'] = cleaned_texts\n",
    "\n",
    "print(train.head())"
   ]
  },
  {
   "cell_type": "code",
   "execution_count": 15,
   "id": "6059865d-f8ed-47cc-8a85-2a4386e795ea",
   "metadata": {},
   "outputs": [
    {
     "data": {
      "image/png": "[encoded data removed]",
      "text/plain": [
       "<Figure size 800x600 with 1 Axes>"
      ]
     },
     "metadata": {},
     "output_type": "display_data"
    }
   ],
   "source": [
    "word_counts = [len(text.split()) for text in test['cleaned']]\n",
    "\n",
    "# Create a histogram to visualize the word count distribution\n",
    "plt.figure(figsize=(8, 6))\n",
    "plt.hist(word_counts, bins=30, edgecolor='black')\n",
    "plt.xlabel('Word Count')\n",
    "plt.ylabel('Frequency')\n",
    "plt.title('Distribution of Word Counts in Preprocessed Text')\n",
    "plt.show()"
   ]
  },
  {
   "cell_type": "code",
   "execution_count": 16,
   "id": "5704adb5-b866-4342-82cb-300b9a19eb6d",
   "metadata": {},
   "outputs": [
    {
     "ename": "KeyError",
     "evalue": "'category'",
     "output_type": "error",
     "traceback": [
      "\u001b[1;31m---------------------------------------------------------------------------\u001b[0m",
      "\u001b[1;31mKeyError\u001b[0m                                  Traceback (most recent call last)",
      "File \u001b[1;32m~\\anaconda3\\Lib\\site-packages\\pandas\\core\\indexes\\base.py:3791\u001b[0m, in \u001b[0;36mIndex.get_loc\u001b[1;34m(self, key)\u001b[0m\n\u001b[0;32m   3790\u001b[0m \u001b[38;5;28;01mtry\u001b[39;00m:\n\u001b[1;32m-> 3791\u001b[0m     \u001b[38;5;28;01mreturn\u001b[39;00m \u001b[38;5;28mself\u001b[39m\u001b[38;5;241m.\u001b[39m_engine\u001b[38;5;241m.\u001b[39mget_loc(casted_key)\n\u001b[0;32m   3792\u001b[0m \u001b[38;5;28;01mexcept\u001b[39;00m \u001b[38;5;167;01mKeyError\u001b[39;00m \u001b[38;5;28;01mas\u001b[39;00m err:\n",
      "File \u001b[1;32mindex.pyx:152\u001b[0m, in \u001b[0;36mpandas._libs.index.IndexEngine.get_loc\u001b[1;34m()\u001b[0m\n",
      "File \u001b[1;32mindex.pyx:181\u001b[0m, in \u001b[0;36mpandas._libs.index.IndexEngine.get_loc\u001b[1;34m()\u001b[0m\n",
      "File \u001b[1;32mpandas\\_libs\\hashtable_class_helper.pxi:7080\u001b[0m, in \u001b[0;36mpandas._libs.hashtable.PyObjectHashTable.get_item\u001b[1;34m()\u001b[0m\n",
      "File \u001b[1;32mpandas\\_libs\\hashtable_class_helper.pxi:7088\u001b[0m, in \u001b[0;36mpandas._libs.hashtable.PyObjectHashTable.get_item\u001b[1;34m()\u001b[0m\n",
      "\u001b[1;31mKeyError\u001b[0m: 'category'",
      "\nThe above exception was the direct cause of the following exception:\n",
      "\u001b[1;31mKeyError\u001b[0m                                  Traceback (most recent call last)",
      "Cell \u001b[1;32mIn[16], line 2\u001b[0m\n\u001b[0;32m      1\u001b[0m \u001b[38;5;66;03m# Assuming you have a 'category' column in your DataFrame\u001b[39;00m\n\u001b[1;32m----> 2\u001b[0m categories \u001b[38;5;241m=\u001b[39m test[\u001b[38;5;124m'\u001b[39m\u001b[38;5;124mcategory\u001b[39m\u001b[38;5;124m'\u001b[39m]\u001b[38;5;241m.\u001b[39munique()\n\u001b[0;32m      4\u001b[0m \u001b[38;5;66;03m# Calculate the average word count for each category\u001b[39;00m\n\u001b[0;32m      5\u001b[0m avg_word_counts \u001b[38;5;241m=\u001b[39m [test\u001b[38;5;241m.\u001b[39mloc[test[\u001b[38;5;124m'\u001b[39m\u001b[38;5;124mcategory\u001b[39m\u001b[38;5;124m'\u001b[39m] \u001b[38;5;241m==\u001b[39m cat, \u001b[38;5;124m'\u001b[39m\u001b[38;5;124mcleaned\u001b[39m\u001b[38;5;124m'\u001b[39m]\u001b[38;5;241m.\u001b[39mapply(\u001b[38;5;28;01mlambda\u001b[39;00m x: \u001b[38;5;28mlen\u001b[39m(x\u001b[38;5;241m.\u001b[39msplit()))\u001b[38;5;241m.\u001b[39mmean() \u001b[38;5;28;01mfor\u001b[39;00m cat \u001b[38;5;129;01min\u001b[39;00m categories]\n",
      "File \u001b[1;32m~\\anaconda3\\Lib\\site-packages\\pandas\\core\\frame.py:3893\u001b[0m, in \u001b[0;36mDataFrame.__getitem__\u001b[1;34m(self, key)\u001b[0m\n\u001b[0;32m   3891\u001b[0m \u001b[38;5;28;01mif\u001b[39;00m \u001b[38;5;28mself\u001b[39m\u001b[38;5;241m.\u001b[39mcolumns\u001b[38;5;241m.\u001b[39mnlevels \u001b[38;5;241m>\u001b[39m \u001b[38;5;241m1\u001b[39m:\n\u001b[0;32m   3892\u001b[0m     \u001b[38;5;28;01mreturn\u001b[39;00m \u001b[38;5;28mself\u001b[39m\u001b[38;5;241m.\u001b[39m_getitem_multilevel(key)\n\u001b[1;32m-> 3893\u001b[0m indexer \u001b[38;5;241m=\u001b[39m \u001b[38;5;28mself\u001b[39m\u001b[38;5;241m.\u001b[39mcolumns\u001b[38;5;241m.\u001b[39mget_loc(key)\n\u001b[0;32m   3894\u001b[0m \u001b[38;5;28;01mif\u001b[39;00m is_integer(indexer):\n\u001b[0;32m   3895\u001b[0m     indexer \u001b[38;5;241m=\u001b[39m [indexer]\n",
      "File \u001b[1;32m~\\anaconda3\\Lib\\site-packages\\pandas\\core\\indexes\\base.py:3798\u001b[0m, in \u001b[0;36mIndex.get_loc\u001b[1;34m(self, key)\u001b[0m\n\u001b[0;32m   3793\u001b[0m     \u001b[38;5;28;01mif\u001b[39;00m \u001b[38;5;28misinstance\u001b[39m(casted_key, \u001b[38;5;28mslice\u001b[39m) \u001b[38;5;129;01mor\u001b[39;00m (\n\u001b[0;32m   3794\u001b[0m         \u001b[38;5;28misinstance\u001b[39m(casted_key, abc\u001b[38;5;241m.\u001b[39mIterable)\n\u001b[0;32m   3795\u001b[0m         \u001b[38;5;129;01mand\u001b[39;00m \u001b[38;5;28many\u001b[39m(\u001b[38;5;28misinstance\u001b[39m(x, \u001b[38;5;28mslice\u001b[39m) \u001b[38;5;28;01mfor\u001b[39;00m x \u001b[38;5;129;01min\u001b[39;00m casted_key)\n\u001b[0;32m   3796\u001b[0m     ):\n\u001b[0;32m   3797\u001b[0m         \u001b[38;5;28;01mraise\u001b[39;00m InvalidIndexError(key)\n\u001b[1;32m-> 3798\u001b[0m     \u001b[38;5;28;01mraise\u001b[39;00m \u001b[38;5;167;01mKeyError\u001b[39;00m(key) \u001b[38;5;28;01mfrom\u001b[39;00m \u001b[38;5;21;01merr\u001b[39;00m\n\u001b[0;32m   3799\u001b[0m \u001b[38;5;28;01mexcept\u001b[39;00m \u001b[38;5;167;01mTypeError\u001b[39;00m:\n\u001b[0;32m   3800\u001b[0m     \u001b[38;5;66;03m# If we have a listlike key, _check_indexing_error will raise\u001b[39;00m\n\u001b[0;32m   3801\u001b[0m     \u001b[38;5;66;03m#  InvalidIndexError. Otherwise we fall through and re-raise\u001b[39;00m\n\u001b[0;32m   3802\u001b[0m     \u001b[38;5;66;03m#  the TypeError.\u001b[39;00m\n\u001b[0;32m   3803\u001b[0m     \u001b[38;5;28mself\u001b[39m\u001b[38;5;241m.\u001b[39m_check_indexing_error(key)\n",
      "\u001b[1;31mKeyError\u001b[0m: 'category'"
     ]
    }
   ],
   "source": [
    "# Assuming you have a 'category' column in your DataFrame\n",
    "categories = test['category'].unique()\n",
    "\n",
    "# Calculate the average word count for each category\n",
    "avg_word_counts = [test.loc[test['category'] == cat, 'cleaned'].apply(lambda x: len(x.split())).mean() for cat in categories]\n",
    "\n",
    "# Create a bar plot\n",
    "plt.figure(figsize=(10, 6))\n",
    "plt.bar(categories, avg_word_counts)\n",
    "plt.xlabel('Category')\n",
    "plt.ylabel('Average Word Count')\n",
    "plt.title('Average Word Count by Category')\n",
    "plt.xticks(rotation=90)\n",
    "plt.show()"
   ]
  },
  {
   "cell_type": "code",
   "execution_count": null,
   "id": "85ac6a6d-cac7-4f87-8bfd-9e8d4460c97a",
   "metadata": {},
   "outputs": [],
   "source": []
  }
 ],
 "metadata": {
  "kernelspec": {
   "display_name": "Python 3 (ipykernel)",
   "language": "python",
   "name": "python3"
  },
  "language_info": {
   "codemirror_mode": {
    "name": "ipython",
    "version": 3
   },
   "file_extension": ".py",
   "mimetype": "text/x-python",
   "name": "python",
   "nbconvert_exporter": "python",
   "pygments_lexer": "ipython3",
   "version": "3.11.7"
  }
 },
 "nbformat": 4,
 "nbformat_minor": 5
}
