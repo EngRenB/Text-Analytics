{
 "cells": [
  {
   "cell_type": "code",
   "execution_count": 1,
   "id": "733c4200-ac16-4da3-bf36-7771ebbc6e10",
   "metadata": {},
   "outputs": [],
   "source": [
    "#packages\n",
    "import pandas as pd"
   ]
  },
  {
   "cell_type": "markdown",
   "id": "e2694ac2-3dbf-42da-a775-fe37784396d9",
   "metadata": {},
   "source": [
    "### Sampling Testing dataset"
   ]
  },
  {
   "cell_type": "code",
   "execution_count": 2,
   "id": "884dbbbd-8795-424d-b6d8-c0157cba7406",
   "metadata": {},
   "outputs": [],
   "source": [
    "df = pd.read_csv(\"Data/Raw/Test_Chatlogs.csv\")"
   ]
  },
  {
   "cell_type": "code",
   "execution_count": 3,
   "id": "669af5c7-5a97-4e05-804d-e778e79a9587",
   "metadata": {},
   "outputs": [
    {
     "data": {
      "text/html": [
       "<div>\n",
       "<style scoped>\n",
       "    .dataframe tbody tr th:only-of-type {\n",
       "        vertical-align: middle;\n",
       "    }\n",
       "\n",
       "    .dataframe tbody tr th {\n",
       "        vertical-align: top;\n",
       "    }\n",
       "\n",
       "    .dataframe thead th {\n",
       "        text-align: right;\n",
       "    }\n",
       "</style>\n",
       "<table border=\"1\" class=\"dataframe\">\n",
       "  <thead>\n",
       "    <tr style=\"text-align: right;\">\n",
       "      <th></th>\n",
       "      <th>line</th>\n",
       "      <th>author</th>\n",
       "      <th>time</th>\n",
       "      <th>text</th>\n",
       "    </tr>\n",
       "  </thead>\n",
       "  <tbody>\n",
       "    <tr>\n",
       "      <th>0</th>\n",
       "      <td>1</td>\n",
       "      <td>0a39f78bcb297ab0ebe8a29c28bfed89</td>\n",
       "      <td>15:24</td>\n",
       "      <td>bugmail: [Bug 6978] New: Mark eof-terminated s...</td>\n",
       "    </tr>\n",
       "    <tr>\n",
       "      <th>1</th>\n",
       "      <td>2</td>\n",
       "      <td>60659cfda992013e610f285c46692d28</td>\n",
       "      <td>15:32</td>\n",
       "      <td>Henri, can I ask you a Firefox build question ...</td>\n",
       "    </tr>\n",
       "    <tr>\n",
       "      <th>2</th>\n",
       "      <td>3</td>\n",
       "      <td>b8810fee2f4a71f849f3f7409546d1d9</td>\n",
       "      <td>15:34</td>\n",
       "      <td>60659cfda992013e610f285c46692d28: sure, but I ...</td>\n",
       "    </tr>\n",
       "    <tr>\n",
       "      <th>3</th>\n",
       "      <td>4</td>\n",
       "      <td>60659cfda992013e610f285c46692d28</td>\n",
       "      <td>15:35</td>\n",
       "      <td>It appears the build runs through, it creates ...</td>\n",
       "    </tr>\n",
       "    <tr>\n",
       "      <th>4</th>\n",
       "      <td>5</td>\n",
       "      <td>60659cfda992013e610f285c46692d28</td>\n",
       "      <td>15:35</td>\n",
       "      <td>when I start it, I get my standard install of ...</td>\n",
       "    </tr>\n",
       "  </tbody>\n",
       "</table>\n",
       "</div>"
      ],
      "text/plain": [
       "   line                            author   time  \\\n",
       "0     1  0a39f78bcb297ab0ebe8a29c28bfed89  15:24   \n",
       "1     2  60659cfda992013e610f285c46692d28  15:32   \n",
       "2     3  b8810fee2f4a71f849f3f7409546d1d9  15:34   \n",
       "3     4  60659cfda992013e610f285c46692d28  15:35   \n",
       "4     5  60659cfda992013e610f285c46692d28  15:35   \n",
       "\n",
       "                                                text  \n",
       "0  bugmail: [Bug 6978] New: Mark eof-terminated s...  \n",
       "1  Henri, can I ask you a Firefox build question ...  \n",
       "2  60659cfda992013e610f285c46692d28: sure, but I ...  \n",
       "3  It appears the build runs through, it creates ...  \n",
       "4  when I start it, I get my standard install of ...  "
      ]
     },
     "execution_count": 3,
     "metadata": {},
     "output_type": "execute_result"
    }
   ],
   "source": [
    "df.head(5)"
   ]
  },
  {
   "cell_type": "code",
   "execution_count": 4,
   "id": "e367263f-5c5c-4514-8436-2d2ce0cd539e",
   "metadata": {},
   "outputs": [],
   "source": [
    "subset = df.sample(n = 50)"
   ]
  },
  {
   "cell_type": "code",
   "execution_count": 5,
   "id": "35be60bb-28ea-4613-86eb-98e21de8f396",
   "metadata": {},
   "outputs": [],
   "source": [
    "subset.to_csv(r'Data\\Sample\\sampledDataset_testing.csv', index = False)"
   ]
  },
  {
   "cell_type": "markdown",
   "id": "492b0fb6-e799-4f9f-8a86-d7c4d7d94ae2",
   "metadata": {},
   "source": [
    "### Sampling Training dataset"
   ]
  },
  {
   "cell_type": "code",
   "execution_count": 6,
   "id": "da901e45-395f-46f1-91f0-19068675b9c5",
   "metadata": {},
   "outputs": [],
   "source": [
    "df = pd.read_csv(\"Data/Raw/Training_Chatlogs.csv\")"
   ]
  },
  {
   "cell_type": "code",
   "execution_count": 7,
   "id": "5915ec89-e5cf-4d8d-b076-ec016ab175c1",
   "metadata": {},
   "outputs": [
    {
     "data": {
      "text/html": [
       "<div>\n",
       "<style scoped>\n",
       "    .dataframe tbody tr th:only-of-type {\n",
       "        vertical-align: middle;\n",
       "    }\n",
       "\n",
       "    .dataframe tbody tr th {\n",
       "        vertical-align: top;\n",
       "    }\n",
       "\n",
       "    .dataframe thead th {\n",
       "        text-align: right;\n",
       "    }\n",
       "</style>\n",
       "<table border=\"1\" class=\"dataframe\">\n",
       "  <thead>\n",
       "    <tr style=\"text-align: right;\">\n",
       "      <th></th>\n",
       "      <th>line</th>\n",
       "      <th>author</th>\n",
       "      <th>time</th>\n",
       "      <th>text</th>\n",
       "    </tr>\n",
       "  </thead>\n",
       "  <tbody>\n",
       "    <tr>\n",
       "      <th>0</th>\n",
       "      <td>1</td>\n",
       "      <td>97964e7a9e8eb9cf78f2e4d7b2ff34c7</td>\n",
       "      <td>03:20</td>\n",
       "      <td>Hola.</td>\n",
       "    </tr>\n",
       "    <tr>\n",
       "      <th>1</th>\n",
       "      <td>2</td>\n",
       "      <td>0158d0d6781fc4d493f243d4caa49747</td>\n",
       "      <td>03:20</td>\n",
       "      <td>hi.</td>\n",
       "    </tr>\n",
       "    <tr>\n",
       "      <th>2</th>\n",
       "      <td>3</td>\n",
       "      <td>0158d0d6781fc4d493f243d4caa49747</td>\n",
       "      <td>03:20</td>\n",
       "      <td>whats up?</td>\n",
       "    </tr>\n",
       "    <tr>\n",
       "      <th>3</th>\n",
       "      <td>4</td>\n",
       "      <td>97964e7a9e8eb9cf78f2e4d7b2ff34c7</td>\n",
       "      <td>03:20</td>\n",
       "      <td>not a ton.</td>\n",
       "    </tr>\n",
       "    <tr>\n",
       "      <th>4</th>\n",
       "      <td>5</td>\n",
       "      <td>97964e7a9e8eb9cf78f2e4d7b2ff34c7</td>\n",
       "      <td>03:20</td>\n",
       "      <td>you?</td>\n",
       "    </tr>\n",
       "  </tbody>\n",
       "</table>\n",
       "</div>"
      ],
      "text/plain": [
       "   line                            author   time        text\n",
       "0     1  97964e7a9e8eb9cf78f2e4d7b2ff34c7  03:20       Hola.\n",
       "1     2  0158d0d6781fc4d493f243d4caa49747  03:20         hi.\n",
       "2     3  0158d0d6781fc4d493f243d4caa49747  03:20   whats up?\n",
       "3     4  97964e7a9e8eb9cf78f2e4d7b2ff34c7  03:20  not a ton.\n",
       "4     5  97964e7a9e8eb9cf78f2e4d7b2ff34c7  03:20        you?"
      ]
     },
     "execution_count": 7,
     "metadata": {},
     "output_type": "execute_result"
    }
   ],
   "source": [
    "df.head(5)"
   ]
  },
  {
   "cell_type": "code",
   "execution_count": 8,
   "id": "b7756610-dd0f-4c4f-a56c-6975a9748e79",
   "metadata": {},
   "outputs": [],
   "source": [
    "training_sample = df.sample(n = 50)"
   ]
  },
  {
   "cell_type": "code",
   "execution_count": 9,
   "id": "6eb60f43-987b-4dfa-9767-49d1b587e481",
   "metadata": {},
   "outputs": [],
   "source": [
    "training_sample.to_csv(r'Data\\SamplesampledDataset_training.csv', index = False)"
   ]
  },
  {
   "cell_type": "code",
   "execution_count": null,
   "id": "cf0d163b",
   "metadata": {},
   "outputs": [],
   "source": []
  }
 ],
 "metadata": {
  "kernelspec": {
   "display_name": "Python 3 (ipykernel)",
   "language": "python",
   "name": "python3"
  },
  "language_info": {
   "codemirror_mode": {
    "name": "ipython",
    "version": 3
   },
   "file_extension": ".py",
   "mimetype": "text/x-python",
   "name": "python",
   "nbconvert_exporter": "python",
   "pygments_lexer": "ipython3",
   "version": "3.11.7"
  }
 },
 "nbformat": 4,
 "nbformat_minor": 5
}
